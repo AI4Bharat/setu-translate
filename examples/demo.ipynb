{
 "cells": [
  {
   "cell_type": "code",
   "execution_count": 2,
   "metadata": {},
   "outputs": [],
   "source": [
    "import pandas as pd\n",
    "import pyarrow.parquet as pq"
   ]
  },
  {
   "cell_type": "markdown",
   "metadata": {},
   "source": [
    "## Load the Wikipedia Dataset and view contents\n",
    "#### Note : The wiki_en_data.parquet is a ~10GB file. Make sure you have enough storage and RAM to store and load the data file"
   ]
  },
  {
   "cell_type": "code",
   "execution_count": 3,
   "metadata": {},
   "outputs": [],
   "source": [
    "parquet_file = pq.ParquetFile(\"./sample_data/wiki_en_data.parquet\")"
   ]
  },
  {
   "cell_type": "code",
   "execution_count": 4,
   "metadata": {},
   "outputs": [],
   "source": [
    "for batch in parquet_file.iter_batches(batch_size=1000):\n",
    "    batchDf = batch.to_pandas()\n",
    "    break"
   ]
  },
  {
   "cell_type": "code",
   "execution_count": 5,
   "metadata": {},
   "outputs": [
    {
     "data": {
      "text/html": [
       "<div>\n",
       "<style scoped>\n",
       "    .dataframe tbody tr th:only-of-type {\n",
       "        vertical-align: middle;\n",
       "    }\n",
       "\n",
       "    .dataframe tbody tr th {\n",
       "        vertical-align: top;\n",
       "    }\n",
       "\n",
       "    .dataframe thead th {\n",
       "        text-align: right;\n",
       "    }\n",
       "</style>\n",
       "<table border=\"1\" class=\"dataframe\">\n",
       "  <thead>\n",
       "    <tr style=\"text-align: right;\">\n",
       "      <th></th>\n",
       "      <th>title</th>\n",
       "      <th>body</th>\n",
       "      <th>source</th>\n",
       "      <th>url</th>\n",
       "      <th>langCode</th>\n",
       "      <th>timestamp</th>\n",
       "    </tr>\n",
       "  </thead>\n",
       "  <tbody>\n",
       "    <tr>\n",
       "      <th>0</th>\n",
       "      <td>Boycott (album)</td>\n",
       "      <td>\\nBoycott (album)\\n\\n\\n\\n</td>\n",
       "      <td>wiki</td>\n",
       "      <td>https://en.wikipedia.org/wiki?curid=63405427</td>\n",
       "      <td>en</td>\n",
       "      <td>24/07/23 15:06</td>\n",
       "    </tr>\n",
       "    <tr>\n",
       "      <th>1</th>\n",
       "      <td>Javier Gallo</td>\n",
       "      <td>\\nJavier Gallo\\n\\nJavier Gallo González (born ...</td>\n",
       "      <td>wiki</td>\n",
       "      <td>https://en.wikipedia.org/wiki?curid=31637473</td>\n",
       "      <td>en</td>\n",
       "      <td>24/07/23 14:49</td>\n",
       "    </tr>\n",
       "    <tr>\n",
       "      <th>2</th>\n",
       "      <td>R. M. Tristram</td>\n",
       "      <td>\\nR. M. Tristram\\n\\n\\n\\n</td>\n",
       "      <td>wiki</td>\n",
       "      <td>https://en.wikipedia.org/wiki?curid=56333678</td>\n",
       "      <td>en</td>\n",
       "      <td>24/07/23 15:02</td>\n",
       "    </tr>\n",
       "    <tr>\n",
       "      <th>3</th>\n",
       "      <td>T. J. Carter (defensive back)</td>\n",
       "      <td>\\nT. J. Carter (defensive back)\\n\\nT. J. Carte...</td>\n",
       "      <td>wiki</td>\n",
       "      <td>https://en.wikipedia.org/wiki?curid=72605589</td>\n",
       "      <td>en</td>\n",
       "      <td>24/07/23 15:11</td>\n",
       "    </tr>\n",
       "    <tr>\n",
       "      <th>4</th>\n",
       "      <td>Wrestling at the 2015 Pan American Games - Men...</td>\n",
       "      <td>\\nWrestling at the 2015 Pan American Games - M...</td>\n",
       "      <td>wiki</td>\n",
       "      <td>https://en.wikipedia.org/wiki?curid=49831530</td>\n",
       "      <td>en</td>\n",
       "      <td>24/07/23 14:59</td>\n",
       "    </tr>\n",
       "  </tbody>\n",
       "</table>\n",
       "</div>"
      ],
      "text/plain": [
       "                                               title  \\\n",
       "0                                    Boycott (album)   \n",
       "1                                       Javier Gallo   \n",
       "2                                     R. M. Tristram   \n",
       "3                      T. J. Carter (defensive back)   \n",
       "4  Wrestling at the 2015 Pan American Games - Men...   \n",
       "\n",
       "                                                body source  \\\n",
       "0                          \\nBoycott (album)\\n\\n\\n\\n   wiki   \n",
       "1  \\nJavier Gallo\\n\\nJavier Gallo González (born ...   wiki   \n",
       "2                           \\nR. M. Tristram\\n\\n\\n\\n   wiki   \n",
       "3  \\nT. J. Carter (defensive back)\\n\\nT. J. Carte...   wiki   \n",
       "4  \\nWrestling at the 2015 Pan American Games - M...   wiki   \n",
       "\n",
       "                                            url langCode       timestamp  \n",
       "0  https://en.wikipedia.org/wiki?curid=63405427       en  24/07/23 15:06  \n",
       "1  https://en.wikipedia.org/wiki?curid=31637473       en  24/07/23 14:49  \n",
       "2  https://en.wikipedia.org/wiki?curid=56333678       en  24/07/23 15:02  \n",
       "3  https://en.wikipedia.org/wiki?curid=72605589       en  24/07/23 15:11  \n",
       "4  https://en.wikipedia.org/wiki?curid=49831530       en  24/07/23 14:59  "
      ]
     },
     "execution_count": 5,
     "metadata": {},
     "output_type": "execute_result"
    }
   ],
   "source": [
    "batchDf.head()"
   ]
  },
  {
   "cell_type": "code",
   "execution_count": null,
   "metadata": {},
   "outputs": [],
   "source": []
  }
 ],
 "metadata": {
  "kernelspec": {
   "display_name": "translate-env",
   "language": "python",
   "name": "python3"
  },
  "language_info": {
   "codemirror_mode": {
    "name": "ipython",
    "version": 3
   },
   "file_extension": ".py",
   "mimetype": "text/x-python",
   "name": "python",
   "nbconvert_exporter": "python",
   "pygments_lexer": "ipython3",
   "version": "3.10.13"
  }
 },
 "nbformat": 4,
 "nbformat_minor": 2
}
