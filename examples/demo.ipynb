{
 "cells": [
  {
   "cell_type": "code",
   "execution_count": 1,
   "metadata": {},
   "outputs": [],
   "source": [
    "import pandas as pd\n",
    "import pyarrow.parquet as pq"
   ]
  },
  {
   "cell_type": "markdown",
   "metadata": {},
   "source": [
    "## Load the Wikipedia Dataset and view contents\n",
    "Note : The original wiki_en_data.parquet is a ~10GB file. We have provided with a sample parquet with 1000 entries for demo purposes."
   ]
  },
  {
   "cell_type": "code",
   "execution_count": 10,
   "metadata": {},
   "outputs": [],
   "source": [
    "df = pd.read_parquet(\"sample_data/sample_wiki_en_data.parquet\")"
   ]
  },
  {
   "cell_type": "code",
   "execution_count": 11,
   "metadata": {},
   "outputs": [
    {
     "name": "stdout",
     "output_type": "stream",
     "text": [
      "<class 'pandas.core.frame.DataFrame'>\n",
      "RangeIndex: 1000 entries, 0 to 999\n",
      "Data columns (total 6 columns):\n",
      " #   Column     Non-Null Count  Dtype \n",
      "---  ------     --------------  ----- \n",
      " 0   title      1000 non-null   object\n",
      " 1   body       1000 non-null   object\n",
      " 2   source     1000 non-null   object\n",
      " 3   url        1000 non-null   object\n",
      " 4   langCode   1000 non-null   object\n",
      " 5   timestamp  1000 non-null   object\n",
      "dtypes: object(6)\n",
      "memory usage: 47.0+ KB\n"
     ]
    }
   ],
   "source": [
    "df.info()"
   ]
  },
  {
   "cell_type": "code",
   "execution_count": 12,
   "metadata": {},
   "outputs": [
    {
     "data": {
      "text/html": [
       "<div>\n",
       "<style scoped>\n",
       "    .dataframe tbody tr th:only-of-type {\n",
       "        vertical-align: middle;\n",
       "    }\n",
       "\n",
       "    .dataframe tbody tr th {\n",
       "        vertical-align: top;\n",
       "    }\n",
       "\n",
       "    .dataframe thead th {\n",
       "        text-align: right;\n",
       "    }\n",
       "</style>\n",
       "<table border=\"1\" class=\"dataframe\">\n",
       "  <thead>\n",
       "    <tr style=\"text-align: right;\">\n",
       "      <th></th>\n",
       "      <th>title</th>\n",
       "      <th>body</th>\n",
       "      <th>source</th>\n",
       "      <th>url</th>\n",
       "      <th>langCode</th>\n",
       "      <th>timestamp</th>\n",
       "    </tr>\n",
       "  </thead>\n",
       "  <tbody>\n",
       "    <tr>\n",
       "      <th>0</th>\n",
       "      <td>Boycott (album)</td>\n",
       "      <td>\\nBoycott (album)\\n\\n\\n\\n</td>\n",
       "      <td>wiki</td>\n",
       "      <td>https://en.wikipedia.org/wiki?curid=63405427</td>\n",
       "      <td>en</td>\n",
       "      <td>24/07/23 15:06</td>\n",
       "    </tr>\n",
       "    <tr>\n",
       "      <th>1</th>\n",
       "      <td>Javier Gallo</td>\n",
       "      <td>\\nJavier Gallo\\n\\nJavier Gallo González (born ...</td>\n",
       "      <td>wiki</td>\n",
       "      <td>https://en.wikipedia.org/wiki?curid=31637473</td>\n",
       "      <td>en</td>\n",
       "      <td>24/07/23 14:49</td>\n",
       "    </tr>\n",
       "    <tr>\n",
       "      <th>2</th>\n",
       "      <td>R. M. Tristram</td>\n",
       "      <td>\\nR. M. Tristram\\n\\n\\n\\n</td>\n",
       "      <td>wiki</td>\n",
       "      <td>https://en.wikipedia.org/wiki?curid=56333678</td>\n",
       "      <td>en</td>\n",
       "      <td>24/07/23 15:02</td>\n",
       "    </tr>\n",
       "    <tr>\n",
       "      <th>3</th>\n",
       "      <td>T. J. Carter (defensive back)</td>\n",
       "      <td>\\nT. J. Carter (defensive back)\\n\\nT. J. Carte...</td>\n",
       "      <td>wiki</td>\n",
       "      <td>https://en.wikipedia.org/wiki?curid=72605589</td>\n",
       "      <td>en</td>\n",
       "      <td>24/07/23 15:11</td>\n",
       "    </tr>\n",
       "    <tr>\n",
       "      <th>4</th>\n",
       "      <td>Wrestling at the 2015 Pan American Games - Men...</td>\n",
       "      <td>\\nWrestling at the 2015 Pan American Games - M...</td>\n",
       "      <td>wiki</td>\n",
       "      <td>https://en.wikipedia.org/wiki?curid=49831530</td>\n",
       "      <td>en</td>\n",
       "      <td>24/07/23 14:59</td>\n",
       "    </tr>\n",
       "  </tbody>\n",
       "</table>\n",
       "</div>"
      ],
      "text/plain": [
       "                                               title  \\\n",
       "0                                    Boycott (album)   \n",
       "1                                       Javier Gallo   \n",
       "2                                     R. M. Tristram   \n",
       "3                      T. J. Carter (defensive back)   \n",
       "4  Wrestling at the 2015 Pan American Games - Men...   \n",
       "\n",
       "                                                body source  \\\n",
       "0                          \\nBoycott (album)\\n\\n\\n\\n   wiki   \n",
       "1  \\nJavier Gallo\\n\\nJavier Gallo González (born ...   wiki   \n",
       "2                           \\nR. M. Tristram\\n\\n\\n\\n   wiki   \n",
       "3  \\nT. J. Carter (defensive back)\\n\\nT. J. Carte...   wiki   \n",
       "4  \\nWrestling at the 2015 Pan American Games - M...   wiki   \n",
       "\n",
       "                                            url langCode       timestamp  \n",
       "0  https://en.wikipedia.org/wiki?curid=63405427       en  24/07/23 15:06  \n",
       "1  https://en.wikipedia.org/wiki?curid=31637473       en  24/07/23 14:49  \n",
       "2  https://en.wikipedia.org/wiki?curid=56333678       en  24/07/23 15:02  \n",
       "3  https://en.wikipedia.org/wiki?curid=72605589       en  24/07/23 15:11  \n",
       "4  https://en.wikipedia.org/wiki?curid=49831530       en  24/07/23 14:59  "
      ]
     },
     "execution_count": 12,
     "metadata": {},
     "output_type": "execute_result"
    }
   ],
   "source": [
    "df.head()"
   ]
  },
  {
   "cell_type": "markdown",
   "metadata": {},
   "source": [
    "## First we perform Templating Stage on the dataset"
   ]
  },
  {
   "cell_type": "markdown",
   "metadata": {},
   "source": [
    "Note : We pass split split as 1% since the dataset is a 9.5 GB Dataset"
   ]
  },
  {
   "cell_type": "code",
   "execution_count": 118,
   "metadata": {},
   "outputs": [
    {
     "name": "stdout",
     "output_type": "stream",
     "text": [
      "Setting num_proc from 64 back to 1 for the train split to disable multiprocessing as it only contains one shard.\n",
      "Generating train split: 16266212 examples [00:59, 273449.17 examples/s]\n",
      "Loaded Dataset from path - /home/shanks/setu-translate/examples/sample_data/wiki_en_data.parquet\n",
      "Map (num_proc=64): 100%|██████████████| 100/100 [00:00<00:00, 181.82 examples/s]\n",
      "Performed `templating`\n",
      "Filter (num_proc=64): 100%|███████████| 100/100 [00:00<00:00, 273.45 examples/s]\n",
      "Filtered `null` text docs\n",
      "Map (num_proc=64): 100%|██████████████| 100/100 [00:00<00:00, 160.18 examples/s]\n",
      "Saving the dataset (64/64 shards): 100%|█| 100/100 [00:00<00:00, 139.40 examples\n",
      "Saved `templated` dataset to /home/shanks/setu-translate/examples/output/wiki_en/templated\n"
     ]
    }
   ],
   "source": [
    "!HF_DATASETS_CACHE=/home/$USER/tmp python /home/shanks/setu-translate/stages/perform_templating.py \\\n",
    "    --glob_path \"/home/$USER/setu-translate/examples/sample_data/sample_wiki_en_data.parquet\" \\\n",
    "    --cache_dir_for_original_data \"/home/$USER/setu-translate/examples/cache\" \\\n",
    "    --base_save_path \"/home/$USER/setu-translate/examples/output/wiki_en/doc_csvs\" \\\n",
    "    --save_path \"/home/$USER/setu-translate/examples/output/wiki_en/templated\" \\\n",
    "    --text_col body \\\n",
    "    --url_col url \\\n",
    "    --timestamp_col timestamp \\\n",
    "    --source_type wiki_en \\\n",
    "    --translation_type sentence \\\n",
    "    --use_cache False \\\n",
    "    --split \"train[:100]\""
   ]
  },
  {
   "cell_type": "code",
   "execution_count": 119,
   "metadata": {},
   "outputs": [],
   "source": [
    "from datasets import Dataset\n",
    "\n",
    "ds = Dataset.from_file(\"/home/shanks/setu-translate/examples/output/wiki_en/templated/data-00000-of-00064.arrow\")"
   ]
  },
  {
   "cell_type": "markdown",
   "metadata": {},
   "source": [
    "#### View the templated dataset output"
   ]
  },
  {
   "cell_type": "code",
   "execution_count": 120,
   "metadata": {},
   "outputs": [
    {
     "data": {
      "text/plain": [
       "{'source': 'en_wikipedia',\n",
       " 'url': 'https://en.wikipedia.org/wiki?curid=63405427',\n",
       " 'timestamp': '24/07/23 15:06',\n",
       " 'doc_id': '7299c62f59ec33baca764b3cc9f6aa529a64ca0e784d963b48649db5500c0b96',\n",
       " 'text': '\\nboycott (album)\\n\\n\\n\\n',\n",
       " 'sub_strs': '[\"boycott (album)\"]',\n",
       " 'sids': '[\"545490bdf181f0d46f6c7bf3a1d2ee08d8266c11fd40c96d3dc6f2238387fffc\"]',\n",
       " 'tlt_folder': '/home/shanks/setu-translate/examples/output/wiki_en/doc_csvs/923682bea6d517dc178d480c88e129e485ed902f4fa024866666658cd4ea6836/7299c62f59ec33baca764b3cc9f6aa529a64ca0e784d963b48649db5500c0b96'}"
      ]
     },
     "execution_count": 120,
     "metadata": {},
     "output_type": "execute_result"
    }
   ],
   "source": [
    "ds[0]"
   ]
  },
  {
   "cell_type": "code",
   "execution_count": 121,
   "metadata": {},
   "outputs": [
    {
     "data": {
      "text/plain": [
       "['\\nboycott (album)\\n\\n\\n\\n',\n",
       " '\\njavier gallo\\n\\njavier gallo gonzález (born 6 august 1983) is a mexican professional boxer.\\nprofessional career.\\nin may 2011, gallo lost a majority decision to former world champion rodel mayol on showtime\\'s televised portion of the pacquiao vs. mosley undercard.\\non september 9, 2011 at the \"war at woodland hills 5\", gallo won with a tko over jason rorie.\\n\\n']"
      ]
     },
     "execution_count": 121,
     "metadata": {},
     "output_type": "execute_result"
    }
   ],
   "source": [
    "ds[0:10]['text']"
   ]
  },
  {
   "cell_type": "markdown",
   "metadata": {},
   "source": [
    "## Create the Global Sentence Level Dataset"
   ]
  },
  {
   "cell_type": "code",
   "execution_count": 122,
   "metadata": {},
   "outputs": [
    {
     "name": "stdout",
     "output_type": "stream",
     "text": [
      "Resolving data files: 100%|█████████████████| 64/64 [00:00<00:00, 418123.76it/s]\n",
      "Generating train split: 100 examples [00:00, 164.45 examples/s]\n",
      "Loading dataset shards: 100%|█████████████████| 64/64 [00:00<00:00, 7853.12it/s]\n",
      "Map (num_proc=64): 100%|██████████████| 100/100 [00:00<00:00, 216.38 examples/s]\n",
      "Map (num_proc=64): 100%|█████████████| 612/612 [00:00<00:00, 1367.55 examples/s]\n",
      "Saving the dataset (64/64 shards): 100%|█| 612/612 [00:00<00:00, 1160.19 example\n"
     ]
    }
   ],
   "source": [
    "!HF_DATASETS_CACHE=/home/$USER/tmp python /home/shanks/setu-translate/stages/create_global_ds.py \\\n",
    "    --paths_data \"/home/$USER/setu-translate/examples/output/wiki_en/templated/*.arrow\" \\\n",
    "    --cache_dir \"/home/$USER/setu-translate/examples/cache\" \\\n",
    "    --global_sent_ds_path \"/home/$USER/setu-translate/examples/output/wiki_en/sentences\""
   ]
  },
  {
   "cell_type": "code",
   "execution_count": 123,
   "metadata": {},
   "outputs": [],
   "source": [
    "ds = Dataset.from_file(\"/home/shanks/setu-translate/examples/output/wiki_en/sentences/data-00000-of-00064.arrow\")"
   ]
  },
  {
   "cell_type": "code",
   "execution_count": 124,
   "metadata": {},
   "outputs": [
    {
     "data": {
      "text/plain": [
       "['boycott (album)',\n",
       " 'javier gallo',\n",
       " 'javier gallo gonzález (born 6 august 1983) is a mexican professional boxer.',\n",
       " 'professional career.',\n",
       " \"in may 2011, gallo lost a majority decision to former world champion rodel mayol on showtime's televised portion of the pacquiao vs.\",\n",
       " 'mosley undercard.',\n",
       " 'on september 9, 2011 at the \"war at woodland hills 5\", gallo won with a tko over jason rorie.',\n",
       " 'r.',\n",
       " 'm.',\n",
       " 'tristram']"
      ]
     },
     "execution_count": 124,
     "metadata": {},
     "output_type": "execute_result"
    }
   ],
   "source": [
    "ds[0:10][\"sub_strs\"]"
   ]
  },
  {
   "cell_type": "markdown",
   "metadata": {},
   "source": [
    "## Now Binarize the Sentence Level Dataset"
   ]
  },
  {
   "cell_type": "code",
   "execution_count": 125,
   "metadata": {},
   "outputs": [
    {
     "name": "stdout",
     "output_type": "stream",
     "text": [
      "Resolving data files: 100%|█████████████████| 64/64 [00:00<00:00, 418123.76it/s]\n",
      "Generating train split: 612 examples [00:00, 32582.49 examples/s]\n",
      "Loaded Dataset....\n",
      "Map: 100%|███████████████████████████| 612/612 [00:00<00:00, 1738.87 examples/s]\n",
      "Saving the dataset (1/1 shards): 100%|█| 612/612 [00:00<00:00, 128313.62 example\n"
     ]
    }
   ],
   "source": [
    "!HF_DATASETS_CACHE=/home/$USER/tmp python /home/shanks/setu-translate/stages/binarize.py \\\n",
    "    --root_dir \"/home/$USER/setu-translate\" \\\n",
    "    --data_files \"/home/$USER/setu-translate/examples/output/wiki_en/sentences/*.arrow\" \\\n",
    "    --cache_dir \"/home/$USER/setu-translate/examples/cache\" \\\n",
    "    --binarized_dir \"/home/$USER/setu-translate/examples/output/wiki_en/binarized_sentences\" \\\n",
    "    --batch_size 2048 \\\n",
    "    --total_procs 1 \\\n",
    "    --padding max_length \\\n",
    "    --src_lang eng_Latn \\\n",
    "    --tgt_lang hin_Deva \\\n",
    "    --return_format pt"
   ]
  },
  {
   "cell_type": "code",
   "execution_count": 126,
   "metadata": {},
   "outputs": [],
   "source": [
    "ds = Dataset.from_file(\"/home/shanks/setu-translate/examples/output/wiki_en/binarized_sentences/data-00000-of-00001.arrow\")"
   ]
  },
  {
   "cell_type": "code",
   "execution_count": 127,
   "metadata": {},
   "outputs": [
    {
     "data": {
      "text/plain": [
       "['norwegian holocaust center',\n",
       " \"azerbaijan's construction in areas gained in the 2020 nagorno-karabakh war\",\n",
       " 'following the 2020 nagorno-karabakh war and in accordance with 2020 nagorno-karabakh ceasefire agreement, republic of azerbaijan re-established authority on the part of the territories, previously de facto controlled by the breakaway republic of artsakh, which allowed azerbaijan to begin construction projects and rehabilitation in areas of the karabakh, many of which had been practically leveled since azerbaijan lost control of them in the 1990s.',\n",
       " 'post-conflict condition and reconstruction.',\n",
       " 'azerbaijan recovered many of its territories during and after the 2020 nagorno-karabakh war, which culminated by the ceasefire deal on 9 november 2020. the ceasefire allowed rehabilitation to begin in places where azerbaijan re-established authority, many of which had been practically leveled since azerbaijan lost control of them in the 1990s.',\n",
       " 'government-sponsored sources present these plans as \"great return\" or \"big return\" ().',\n",
       " 'at the 11th session of the world urban forum, president of the republic of azerbaijan ilham aliyev claimed that huge mine pollution is the main challenge, which slowing down reconstruction and return of internally displaced individuals.',\n",
       " \"paul gavan, pace rapporteur on the 'humanitarian consequences of the conflict between armenia and azerbaijan', stated in his report that:\",\n",
       " 'according to us department of state azerbaijani government is looking for new investments in the areas around nagorno-karabakh that were previously controlled by armenia-backed separatists.',\n",
       " 'he held the world indoor 1500 m record for three years, with his mark currently being the second-fastest on the respective world all-time list.']"
      ]
     },
     "execution_count": 127,
     "metadata": {},
     "output_type": "execute_result"
    }
   ],
   "source": [
    "ds[0:10][\"sub_strs\"]"
   ]
  },
  {
   "cell_type": "code",
   "execution_count": 128,
   "metadata": {},
   "outputs": [
    {
     "name": "stdout",
     "output_type": "stream",
     "text": [
      "[1, 1, 1, 1, 1, 1, 1, 1, 1, 1, 1, 1, 1, 1, 1, 1, 1, 1, 1, 1, 1, 1, 1, 1, 1, 1, 1, 1, 1, 1, 1, 1, 1, 1, 1, 1, 1, 1, 1, 1, 1, 1, 1, 1, 1, 1, 1, 1, 1, 1, 1, 1, 1, 1, 1, 1, 1, 1, 1, 1, 1, 1, 1, 1, 1, 1, 1, 1, 1, 1, 1, 1, 1, 1, 1, 1, 1, 1, 1, 1, 1, 1, 1, 1, 1, 1, 1, 1, 1, 1, 1, 1, 1, 1, 1, 1, 1, 1, 1, 1, 1, 1, 1, 1, 1, 1, 1, 1, 1, 1, 1, 1, 1, 1, 1, 1, 1, 1, 1, 1, 1, 1, 1, 1, 1, 1, 1, 1, 1, 1, 1, 1, 1, 1, 1, 1, 1, 1, 1, 1, 1, 1, 1, 1, 1, 1, 1, 1, 1, 1, 1, 1, 1, 1, 1, 1, 1, 1, 1, 1, 1, 1, 1, 1, 1, 1, 1, 1, 1, 1, 1, 1, 1, 1, 1, 1, 1, 1, 1, 1, 1, 1, 1, 1, 1, 1, 1, 1, 1, 1, 1, 1, 1, 1, 1, 1, 1, 1, 1, 1, 1, 1, 1, 1, 1, 1, 1, 1, 1, 1, 1, 1, 1, 1, 1, 1, 1, 1, 1, 1, 1, 1, 1, 1, 1, 1, 1, 1, 1, 1, 1, 1, 1, 1, 1, 1, 1, 1, 1, 1, 1, 1, 1, 1, 1, 1, 1, 4, 15, 2563, 27445, 1307, 14660, 26766, 2150, 2]\n",
      "[1, 1, 1, 1, 1, 1, 1, 1, 1, 1, 1, 1, 1, 1, 1, 1, 1, 1, 1, 1, 1, 1, 1, 1, 1, 1, 1, 1, 1, 1, 1, 1, 1, 1, 1, 1, 1, 1, 1, 1, 1, 1, 1, 1, 1, 1, 1, 1, 1, 1, 1, 1, 1, 1, 1, 1, 1, 1, 1, 1, 1, 1, 1, 1, 1, 1, 1, 1, 1, 1, 1, 1, 1, 1, 1, 1, 1, 1, 1, 1, 1, 1, 1, 1, 1, 1, 1, 1, 1, 1, 1, 1, 1, 1, 1, 1, 1, 1, 1, 1, 1, 1, 1, 1, 1, 1, 1, 1, 1, 1, 1, 1, 1, 1, 1, 1, 1, 1, 1, 1, 1, 1, 1, 1, 1, 1, 1, 1, 1, 1, 1, 1, 1, 1, 1, 1, 1, 1, 1, 1, 1, 1, 1, 1, 1, 1, 1, 1, 1, 1, 1, 1, 1, 1, 1, 1, 1, 1, 1, 1, 1, 1, 1, 1, 1, 1, 1, 1, 1, 1, 1, 1, 1, 1, 1, 1, 1, 1, 1, 1, 1, 1, 1, 1, 1, 1, 1, 1, 1, 1, 1, 1, 1, 1, 1, 1, 1, 1, 1, 1, 1, 1, 1, 1, 1, 1, 1, 1, 1, 1, 1, 1, 1, 1, 1, 1, 1, 1, 1, 1, 1, 1, 1, 1, 1, 1, 1, 1, 1, 1, 4, 15, 14, 1191, 23965, 1734, 7371, 16, 23, 1495, 11, 658, 4329, 11, 6, 878, 924, 1290, 4707, 369, 43, 2567, 1007, 4570, 867, 2]\n",
      "[1, 1, 1, 1, 1, 1, 1, 1, 1, 1, 1, 1, 1, 1, 1, 1, 1, 1, 1, 1, 1, 1, 1, 1, 1, 1, 1, 1, 1, 1, 1, 1, 1, 1, 1, 1, 1, 1, 1, 1, 1, 1, 1, 1, 1, 1, 1, 1, 1, 1, 1, 1, 1, 1, 1, 1, 1, 1, 1, 1, 1, 1, 1, 1, 1, 1, 1, 1, 1, 1, 1, 1, 1, 1, 1, 1, 1, 1, 1, 1, 1, 1, 1, 1, 1, 1, 1, 1, 1, 1, 1, 1, 1, 1, 1, 1, 1, 1, 1, 1, 1, 1, 1, 1, 1, 1, 1, 1, 1, 1, 1, 1, 1, 1, 1, 1, 1, 1, 1, 1, 1, 1, 1, 1, 1, 1, 1, 1, 1, 1, 1, 1, 1, 1, 1, 1, 1, 1, 1, 1, 1, 1, 1, 1, 1, 1, 1, 1, 1, 1, 4, 15, 428, 6, 878, 924, 1290, 4707, 369, 43, 2567, 1007, 4570, 867, 10, 11, 5047, 40, 878, 924, 1290, 4707, 369, 43, 2567, 1007, 4570, 12330, 2004, 7, 9402, 8, 14, 1191, 23965, 1734, 7371, 1212, 43, 21648, 3296, 34, 6, 234, 8, 6, 6605, 7, 3441, 1424, 19850, 4324, 49, 6, 2237, 10473, 9402, 8, 5966, 4570, 7, 94, 1009, 14, 1191, 23965, 1734, 7371, 9, 1372, 1495, 1431, 10, 11620, 11, 658, 8, 6, 21900, 1007, 4570, 7, 137, 8, 94, 83, 57, 11493, 659, 178, 395, 14, 1191, 23965, 1734, 7371, 682, 644, 8, 88, 11, 6, 5003, 23, 5, 2]\n",
      "[1, 1, 1, 1, 1, 1, 1, 1, 1, 1, 1, 1, 1, 1, 1, 1, 1, 1, 1, 1, 1, 1, 1, 1, 1, 1, 1, 1, 1, 1, 1, 1, 1, 1, 1, 1, 1, 1, 1, 1, 1, 1, 1, 1, 1, 1, 1, 1, 1, 1, 1, 1, 1, 1, 1, 1, 1, 1, 1, 1, 1, 1, 1, 1, 1, 1, 1, 1, 1, 1, 1, 1, 1, 1, 1, 1, 1, 1, 1, 1, 1, 1, 1, 1, 1, 1, 1, 1, 1, 1, 1, 1, 1, 1, 1, 1, 1, 1, 1, 1, 1, 1, 1, 1, 1, 1, 1, 1, 1, 1, 1, 1, 1, 1, 1, 1, 1, 1, 1, 1, 1, 1, 1, 1, 1, 1, 1, 1, 1, 1, 1, 1, 1, 1, 1, 1, 1, 1, 1, 1, 1, 1, 1, 1, 1, 1, 1, 1, 1, 1, 1, 1, 1, 1, 1, 1, 1, 1, 1, 1, 1, 1, 1, 1, 1, 1, 1, 1, 1, 1, 1, 1, 1, 1, 1, 1, 1, 1, 1, 1, 1, 1, 1, 1, 1, 1, 1, 1, 1, 1, 1, 1, 1, 1, 1, 1, 1, 1, 1, 1, 1, 1, 1, 1, 1, 1, 1, 1, 1, 1, 1, 1, 1, 1, 1, 1, 1, 1, 1, 1, 1, 1, 1, 1, 1, 1, 1, 1, 1, 1, 1, 1, 1, 1, 1, 1, 1, 1, 1, 1, 1, 1, 1, 1, 4, 15, 425, 43, 20460, 3796, 45, 763, 10, 15157, 5, 2]\n",
      "[1, 1, 1, 1, 1, 1, 1, 1, 1, 1, 1, 1, 1, 1, 1, 1, 1, 1, 1, 1, 1, 1, 1, 1, 1, 1, 1, 1, 1, 1, 1, 1, 1, 1, 1, 1, 1, 1, 1, 1, 1, 1, 1, 1, 1, 1, 1, 1, 1, 1, 1, 1, 1, 1, 1, 1, 1, 1, 1, 1, 1, 1, 1, 1, 1, 1, 1, 1, 1, 1, 1, 1, 1, 1, 1, 1, 1, 1, 1, 1, 1, 1, 1, 1, 1, 1, 1, 1, 1, 1, 1, 1, 1, 1, 1, 1, 1, 1, 1, 1, 1, 1, 1, 1, 1, 1, 1, 1, 1, 1, 1, 1, 1, 1, 1, 1, 1, 1, 1, 1, 1, 1, 1, 1, 1, 1, 1, 1, 1, 1, 1, 1, 1, 1, 1, 1, 1, 1, 1, 1, 1, 1, 1, 1, 1, 1, 1, 1, 1, 1, 1, 1, 1, 1, 1, 1, 1, 1, 1, 1, 1, 1, 1, 1, 1, 1, 1, 1, 1, 1, 1, 1, 1, 1, 4, 15, 14, 1191, 23965, 1734, 7371, 1467, 137, 8, 117, 6605, 232, 10, 133, 6, 878, 924, 1290, 4707, 369, 43, 2567, 1007, 4570, 867, 7, 94, 25254, 49, 6, 12330, 1123, 34, 735, 924, 18941, 878, 85, 6, 12330, 1009, 11620, 9, 1372, 11, 935, 230, 14, 1191, 23965, 1734, 7371, 1212, 43, 21648, 3296, 7, 137, 8, 94, 83, 57, 11493, 659, 178, 395, 14, 1191, 23965, 1734, 7371, 682, 644, 8, 88, 11, 6, 5003, 23, 5, 2]\n",
      "[1, 1, 1, 1, 1, 1, 1, 1, 1, 1, 1, 1, 1, 1, 1, 1, 1, 1, 1, 1, 1, 1, 1, 1, 1, 1, 1, 1, 1, 1, 1, 1, 1, 1, 1, 1, 1, 1, 1, 1, 1, 1, 1, 1, 1, 1, 1, 1, 1, 1, 1, 1, 1, 1, 1, 1, 1, 1, 1, 1, 1, 1, 1, 1, 1, 1, 1, 1, 1, 1, 1, 1, 1, 1, 1, 1, 1, 1, 1, 1, 1, 1, 1, 1, 1, 1, 1, 1, 1, 1, 1, 1, 1, 1, 1, 1, 1, 1, 1, 1, 1, 1, 1, 1, 1, 1, 1, 1, 1, 1, 1, 1, 1, 1, 1, 1, 1, 1, 1, 1, 1, 1, 1, 1, 1, 1, 1, 1, 1, 1, 1, 1, 1, 1, 1, 1, 1, 1, 1, 1, 1, 1, 1, 1, 1, 1, 1, 1, 1, 1, 1, 1, 1, 1, 1, 1, 1, 1, 1, 1, 1, 1, 1, 1, 1, 1, 1, 1, 1, 1, 1, 1, 1, 1, 1, 1, 1, 1, 1, 1, 1, 1, 1, 1, 1, 1, 1, 1, 1, 1, 1, 1, 1, 1, 1, 1, 1, 1, 1, 1, 1, 1, 1, 1, 1, 1, 1, 1, 1, 1, 1, 1, 1, 1, 1, 1, 1, 1, 1, 1, 1, 1, 1, 1, 1, 1, 1, 1, 1, 1, 1, 1, 1, 4, 15, 121, 43, 22053, 1476, 299, 120, 1553, 47, 12, 248, 1098, 12, 64, 12, 472, 1098, 12, 53, 52, 5, 2]\n",
      "[1, 1, 1, 1, 1, 1, 1, 1, 1, 1, 1, 1, 1, 1, 1, 1, 1, 1, 1, 1, 1, 1, 1, 1, 1, 1, 1, 1, 1, 1, 1, 1, 1, 1, 1, 1, 1, 1, 1, 1, 1, 1, 1, 1, 1, 1, 1, 1, 1, 1, 1, 1, 1, 1, 1, 1, 1, 1, 1, 1, 1, 1, 1, 1, 1, 1, 1, 1, 1, 1, 1, 1, 1, 1, 1, 1, 1, 1, 1, 1, 1, 1, 1, 1, 1, 1, 1, 1, 1, 1, 1, 1, 1, 1, 1, 1, 1, 1, 1, 1, 1, 1, 1, 1, 1, 1, 1, 1, 1, 1, 1, 1, 1, 1, 1, 1, 1, 1, 1, 1, 1, 1, 1, 1, 1, 1, 1, 1, 1, 1, 1, 1, 1, 1, 1, 1, 1, 1, 1, 1, 1, 1, 1, 1, 1, 1, 1, 1, 1, 1, 1, 1, 1, 1, 1, 1, 1, 1, 1, 1, 1, 1, 1, 1, 1, 1, 1, 1, 1, 1, 1, 1, 1, 1, 1, 1, 1, 1, 1, 1, 1, 1, 1, 1, 1, 1, 1, 1, 1, 1, 1, 1, 1, 1, 1, 1, 1, 1, 1, 1, 1, 1, 1, 1, 1, 4, 15, 48, 6, 678, 264, 2094, 8, 6, 144, 3373, 8020, 7, 490, 8, 6, 9402, 8, 14, 1191, 23965, 1734, 7371, 277, 733, 4320, 1298, 5602, 4023, 1677, 26, 852, 3511, 3172, 13, 6, 573, 2095, 7, 94, 17293, 331, 15157, 10, 1098, 8, 18383, 14147, 2114, 5, 2]\n",
      "[1, 1, 1, 1, 1, 1, 1, 1, 1, 1, 1, 1, 1, 1, 1, 1, 1, 1, 1, 1, 1, 1, 1, 1, 1, 1, 1, 1, 1, 1, 1, 1, 1, 1, 1, 1, 1, 1, 1, 1, 1, 1, 1, 1, 1, 1, 1, 1, 1, 1, 1, 1, 1, 1, 1, 1, 1, 1, 1, 1, 1, 1, 1, 1, 1, 1, 1, 1, 1, 1, 1, 1, 1, 1, 1, 1, 1, 1, 1, 1, 1, 1, 1, 1, 1, 1, 1, 1, 1, 1, 1, 1, 1, 1, 1, 1, 1, 1, 1, 1, 1, 1, 1, 1, 1, 1, 1, 1, 1, 1, 1, 1, 1, 1, 1, 1, 1, 1, 1, 1, 1, 1, 1, 1, 1, 1, 1, 1, 1, 1, 1, 1, 1, 1, 1, 1, 1, 1, 1, 1, 1, 1, 1, 1, 1, 1, 1, 1, 1, 1, 1, 1, 1, 1, 1, 1, 1, 1, 1, 1, 1, 1, 1, 1, 1, 1, 1, 1, 1, 1, 1, 1, 1, 1, 1, 1, 1, 1, 1, 1, 1, 1, 1, 1, 1, 1, 1, 1, 1, 1, 1, 1, 1, 1, 1, 1, 1, 1, 1, 1, 1, 1, 1, 1, 1, 1, 1, 1, 1, 1, 1, 1, 1, 1, 1, 1, 1, 4, 15, 564, 4849, 845, 6578, 7, 4502, 2335, 4151, 4659, 19003, 34, 6, 16, 9543, 3844, 8, 6, 3615, 189, 3169, 3170, 690, 10, 14, 1191, 23965, 1734, 7371, 16, 7, 1492, 11, 73, 585, 26, 56, 2]\n",
      "[1, 1, 1, 1, 1, 1, 1, 1, 1, 1, 1, 1, 1, 1, 1, 1, 1, 1, 1, 1, 1, 1, 1, 1, 1, 1, 1, 1, 1, 1, 1, 1, 1, 1, 1, 1, 1, 1, 1, 1, 1, 1, 1, 1, 1, 1, 1, 1, 1, 1, 1, 1, 1, 1, 1, 1, 1, 1, 1, 1, 1, 1, 1, 1, 1, 1, 1, 1, 1, 1, 1, 1, 1, 1, 1, 1, 1, 1, 1, 1, 1, 1, 1, 1, 1, 1, 1, 1, 1, 1, 1, 1, 1, 1, 1, 1, 1, 1, 1, 1, 1, 1, 1, 1, 1, 1, 1, 1, 1, 1, 1, 1, 1, 1, 1, 1, 1, 1, 1, 1, 1, 1, 1, 1, 1, 1, 1, 1, 1, 1, 1, 1, 1, 1, 1, 1, 1, 1, 1, 1, 1, 1, 1, 1, 1, 1, 1, 1, 1, 1, 1, 1, 1, 1, 1, 1, 1, 1, 1, 1, 1, 1, 1, 1, 1, 1, 1, 1, 1, 1, 1, 1, 1, 1, 1, 1, 1, 1, 1, 1, 1, 1, 1, 1, 1, 1, 1, 1, 1, 1, 1, 1, 1, 1, 1, 1, 1, 1, 1, 1, 1, 1, 1, 1, 1, 1, 1, 1, 1, 1, 1, 1, 4, 15, 1004, 9, 177, 1497, 8, 169, 14, 1191, 23965, 1734, 23385, 121, 13, 680, 22, 118, 4726, 11, 6, 658, 322, 924, 1290, 4707, 369, 43, 2567, 1007, 4570, 26, 66, 3441, 4324, 49, 3169, 3170, 690, 43, 16514, 23736, 5, 2]\n",
      "[1, 1, 1, 1, 1, 1, 1, 1, 1, 1, 1, 1, 1, 1, 1, 1, 1, 1, 1, 1, 1, 1, 1, 1, 1, 1, 1, 1, 1, 1, 1, 1, 1, 1, 1, 1, 1, 1, 1, 1, 1, 1, 1, 1, 1, 1, 1, 1, 1, 1, 1, 1, 1, 1, 1, 1, 1, 1, 1, 1, 1, 1, 1, 1, 1, 1, 1, 1, 1, 1, 1, 1, 1, 1, 1, 1, 1, 1, 1, 1, 1, 1, 1, 1, 1, 1, 1, 1, 1, 1, 1, 1, 1, 1, 1, 1, 1, 1, 1, 1, 1, 1, 1, 1, 1, 1, 1, 1, 1, 1, 1, 1, 1, 1, 1, 1, 1, 1, 1, 1, 1, 1, 1, 1, 1, 1, 1, 1, 1, 1, 1, 1, 1, 1, 1, 1, 1, 1, 1, 1, 1, 1, 1, 1, 1, 1, 1, 1, 1, 1, 1, 1, 1, 1, 1, 1, 1, 1, 1, 1, 1, 1, 1, 1, 1, 1, 1, 1, 1, 1, 1, 1, 1, 1, 1, 1, 1, 1, 1, 1, 1, 1, 1, 1, 1, 1, 1, 1, 1, 1, 1, 1, 1, 1, 1, 1, 1, 1, 1, 1, 1, 1, 1, 1, 1, 1, 1, 1, 1, 1, 1, 1, 1, 1, 1, 1, 1, 1, 1, 1, 1, 1, 4, 15, 59, 447, 6, 144, 11399, 11677, 750, 1519, 22, 180, 158, 7, 40, 73, 2977, 540, 173, 6, 298, 43, 4532, 866, 34, 6, 3735, 144, 60, 43, 2000, 536, 5, 2]\n"
     ]
    }
   ],
   "source": [
    "for input_id in ds[0:10][\"input_ids\"]:\n",
    "    print(str(input_id))"
   ]
  },
  {
   "cell_type": "markdown",
   "metadata": {},
   "source": [
    "## Now perform translation on the binarized dataset"
   ]
  },
  {
   "cell_type": "code",
   "execution_count": 129,
   "metadata": {},
   "outputs": [
    {
     "name": "stdout",
     "output_type": "stream",
     "text": [
      "Generating train split: 612 examples [00:00, 322638.77 examples/s]\n",
      "100%|████████████████████████████| 10/10 [00:28<00:00,  2.82s/ba: 64 samples/ba]\n",
      "Saving the dataset (1/1 shards): 100%|█| 612/612 [00:00<00:00, 94064.06 examples\n"
     ]
    }
   ],
   "source": [
    "!HF_DATASETS_CACHE=/home/$USER/tmp python /home/shanks/setu-translate/stages/tlt_pipelines/translate_joblib.py \\\n",
    "    --root_dir \"/home/$USER/setu-translate\" \\\n",
    "    --data_files \"/home/$USER/setu-translate/examples/output/wiki_en/binarized_sentences/*.arrow\" \\\n",
    "    --cache_dir \"/home/$USER/setu-translate/examples/cache\" \\\n",
    "    --base_save_dir \"/home/$USER/setu-translate/examples/output/wiki_en/model_out\" \\\n",
    "    --joblib_temp_folder \"/home/$USER/setu-translate/tmp\" \\\n",
    "    --batch_size 64 \\\n",
    "    --total_procs 1 \\\n",
    "    --devices \"0\""
   ]
  },
  {
   "cell_type": "code",
   "execution_count": 130,
   "metadata": {},
   "outputs": [],
   "source": [
    "ds = Dataset.from_file(\"/home/shanks/setu-translate/examples/output/wiki_en/model_out/rank_0-device_cuda:0/data-00000-of-00001.arrow\")"
   ]
  },
  {
   "cell_type": "code",
   "execution_count": 131,
   "metadata": {},
   "outputs": [
    {
     "name": "stdout",
     "output_type": "stream",
     "text": [
      "[2, 43257, 31, 53526, 606, 2, 1, 1, 1, 1, 1, 1, 1, 1, 1, 1, 1, 1, 1, 1, 1, 1, 1, 1, 1, 1, 1, 1, 1, 1, 1, 1, 1, 1, 1, 1, 1, 1, 1, 1, 1, 1, 1, 1, 1, 1, 1, 1, 1, 1, 1, 1, 1, 1, 1, 1, 1, 1, 1, 1, 1, 1, 1, 1, 1, 1, 1, 1, 1, 1, 1, 1, 1, 1, 1, 1, 1, 1, 1, 1, 1, 1, 1, 1, 1, 1, 1, 1, 1, 1, 1, 1, 1, 1, 1, 1, 1, 1, 1, 1, 1, 1, 1, 1, 1, 1, 1, 1, 1, 1, 1, 1]\n",
      "[2, 1064, 9, 6953, 3669, 184, 13, 515, 47359, 392, 979, 10, 907, 3736, 10, 213, 12707, 12405, 12221, 31, 797, 2, 1, 1, 1, 1, 1, 1, 1, 1, 1, 1, 1, 1, 1, 1, 1, 1, 1, 1, 1, 1, 1, 1, 1, 1, 1, 1, 1, 1, 1, 1, 1, 1, 1, 1, 1, 1, 1, 1, 1, 1, 1, 1, 1, 1, 1, 1, 1, 1, 1, 1, 1, 1, 1, 1, 1, 1, 1, 1, 1, 1, 1, 1, 1, 1, 1, 1, 1, 1, 1, 1, 1, 1, 1, 1, 1, 1, 1, 1, 1, 1, 1, 1, 1, 1, 1, 1, 1, 1, 1, 1]\n",
      "[2, 1064, 9, 6953, 3669, 184, 13, 515, 47359, 392, 979, 9, 144, 17, 1064, 9, 6953, 3669, 184, 13, 515, 47359, 392, 4152, 15761, 10878, 9, 937, 5, 213, 12707, 12405, 12221, 19695, 26, 3736, 12, 858, 20, 822, 23, 503, 20, 3134, 78, 5, 85, 395, 41982, 655, 318, 6249, 964, 392, 19695, 173, 7213, 107, 5, 10425, 213, 12707, 12405, 12221, 23, 515, 47359, 392, 9, 3736, 10, 797, 39114, 17, 45160, 763, 101, 12, 1573, 56, 5, 7432, 20, 351, 23, 8360, 9, 3597, 10, 213, 12707, 12405, 12221, 173, 1590, 25, 1799, 4068, 61, 9, 144, 20, 20758, 200, 20, 36661, 45, 209, 90, 107, 6, 2]\n",
      "[2, 4152, 9, 144, 12, 711, 17, 24701, 6, 2, 1, 1, 1, 1, 1, 1, 1, 1, 1, 1, 1, 1, 1, 1, 1, 1, 1, 1, 1, 1, 1, 1, 1, 1, 1, 1, 1, 1, 1, 1, 1, 1, 1, 1, 1, 1, 1, 1, 1, 1, 1, 1, 1, 1, 1, 1, 1, 1, 1, 1, 1, 1, 1, 1, 1, 1, 1, 1, 1, 1, 1, 1, 1, 1, 1, 1, 1, 1, 1, 1, 1, 1, 1, 1, 1, 1, 1, 1, 1, 1, 1, 1, 1, 1, 1, 1, 1, 1, 1, 1, 1, 1, 1, 1, 1, 1, 1, 1, 1, 1, 1, 1]\n",
      "[2, 213, 12707, 12405, 12221, 26, 1064, 9, 6953, 3669, 184, 13, 515, 47359, 392, 979, 9, 676, 17, 888, 144, 219, 351, 3736, 23, 503, 20, 3528, 45, 621, 5, 85, 743, 15092, 1064, 23, 4152, 15761, 10878, 9, 103, 4209, 540, 4, 4152, 15761, 26, 1590, 8829, 25, 45160, 763, 101, 12, 1573, 56, 2000, 213, 12707, 12405, 12221, 26, 822, 503, 20, 3134, 78, 5, 7432, 20, 351, 23, 20758, 200, 20, 36661, 45, 209, 90, 107, 1246, 8360, 9, 3597, 10, 213, 12707, 12405, 12221, 26, 1590, 25, 1799, 4068, 209, 107, 6, 2, 1, 1, 1, 1, 1, 1, 1, 1, 1, 1, 1, 1, 1, 1]\n",
      "[2, 162, 173, 38074, 5301, 422, 15744, 23, 7, 2318, 836, 7, 66, 7, 1960, 836, 7, 22, 21, 9, 200, 10, 1176, 96, 33, 6, 2, 1, 1, 1, 1, 1, 1, 1, 1, 1, 1, 1, 1, 1, 1, 1, 1, 1, 1, 1, 1, 1, 1, 1, 1, 1, 1, 1, 1, 1, 1, 1, 1, 1, 1, 1, 1, 1, 1, 1, 1, 1, 1, 1, 1, 1, 1, 1, 1, 1, 1, 1, 1, 1, 1, 1, 1, 1, 1, 1, 1, 1, 1, 1, 1, 1, 1, 1, 1, 1, 1, 1, 1, 1, 1, 1, 1, 1, 1, 1, 1, 1, 1, 1, 1, 1]\n",
      "[2, 911, 11856, 6734, 9, 803, 4713, 5248, 10, 5, 213, 12707, 12405, 12221, 19695, 9, 1054, 5241, 31213, 2999, 1899, 128, 26, 3907, 78, 29, 1469, 50254, 8835, 379, 8261, 8, 5, 85, 5171, 200, 20, 49218, 11857, 9, 24701, 17, 9668, 23, 31821, 45, 3257, 8, 6, 2, 1, 1, 1, 1, 1, 1, 1, 1, 1, 1, 1, 1, 1, 1, 1, 1, 1, 1, 1, 1, 1, 1, 1, 1, 1, 1, 1, 1, 1, 1, 1, 1, 1, 1, 1, 1, 1, 1, 1, 1, 1, 1, 1, 1, 1, 1, 1, 1, 1, 1, 1, 1, 1, 1, 1, 1, 1, 1, 1, 1, 1, 1]\n",
      "[2, 30, 1553, 8580, 438, 17, 213, 12707, 12405, 12221, 9, 746, 4152, 9, 16832, 25020, 30, 25, 3647, 243, 313, 22681, 25610, 9847, 114, 26, 509, 1360, 10, 86, 43898, 2, 1, 1, 1, 1, 1, 1, 1, 1, 1, 1, 1, 1, 1, 1, 1, 1, 1, 1, 1, 1, 1, 1, 1, 1, 1, 1, 1, 1, 1, 1, 1, 1, 1, 1, 1, 1, 1, 1, 1, 1, 1, 1, 1, 1, 1, 1, 1, 1, 1, 1, 1, 1, 1, 1, 1, 1, 1, 1, 1, 1, 1, 1, 1, 1, 1, 1, 1, 1, 1, 1, 1, 1, 1, 1, 1, 1, 1, 1, 1, 1]\n",
      "[2, 2431, 1887, 931, 9, 937, 213, 12707, 12405, 62089, 162, 6953, 3669, 184, 13, 515, 47359, 392, 9, 4704, 9, 3736, 10, 2031, 4815, 12, 4482, 45, 161, 8, 85, 395, 1553, 8580, 438, 20218, 35885, 38138, 173, 7213, 308, 6, 2, 1, 1, 1, 1, 1, 1, 1, 1, 1, 1, 1, 1, 1, 1, 1, 1, 1, 1, 1, 1, 1, 1, 1, 1, 1, 1, 1, 1, 1, 1, 1, 1, 1, 1, 1, 1, 1, 1, 1, 1, 1, 1, 1, 1, 1, 1, 1, 1, 1, 1, 1, 1, 1, 1, 1, 1, 1, 1, 1, 1, 1, 1, 1, 1, 1, 1, 1, 1, 1]\n",
      "[2, 192, 700, 933, 258, 911, 49172, 19922, 5053, 31, 8549, 3791, 5, 1722, 1922, 13108, 2655, 10, 1349, 911, 547, 17586, 3220, 10, 5333, 538, 3319, 8, 6, 2, 1, 1, 1, 1, 1, 1, 1, 1, 1, 1, 1, 1, 1, 1, 1, 1, 1, 1, 1, 1, 1, 1, 1, 1, 1, 1, 1, 1, 1, 1, 1, 1, 1, 1, 1, 1, 1, 1, 1, 1, 1, 1, 1, 1, 1, 1, 1, 1, 1, 1, 1, 1, 1, 1, 1, 1, 1, 1, 1, 1, 1, 1, 1, 1, 1, 1, 1, 1, 1, 1, 1, 1, 1, 1, 1, 1, 1, 1, 1, 1, 1, 1]\n"
     ]
    }
   ],
   "source": [
    "for input_id in ds[0:10][\"translated_input_ids\"]:\n",
    "    print(str(input_id))"
   ]
  },
  {
   "cell_type": "markdown",
   "metadata": {},
   "source": [
    "## Now let's decode the translated inputs"
   ]
  },
  {
   "cell_type": "code",
   "execution_count": 132,
   "metadata": {},
   "outputs": [
    {
     "name": "stdout",
     "output_type": "stream",
     "text": [
      "Generating train split: 612 examples [00:00, 181433.00 examples/s]\n",
      "Loaded Dataset....\n",
      "Map: 100%|████████████████████████████| 612/612 [00:01<00:00, 456.12 examples/s]\n",
      "Map: 100%|███████████████████████████| 612/612 [00:00<00:00, 6849.01 examples/s]\n",
      "Saving the dataset (1/1 shards): 100%|█| 612/612 [00:00<00:00, 112087.42 example\n"
     ]
    }
   ],
   "source": [
    "!HF_DATASETS_CACHE=/home/$USER/tmp python /home/shanks/setu-translate/stages/decode.py \\\n",
    "    --root_dir \"/home/$USER/setu-translate\" \\\n",
    "    --data_files \"/home/$USER/setu-translate/examples/output/wiki_en/model_out/*/*.arrow\" \\\n",
    "    --cache_dir \"/home/$USER/setu-translate/examples/cache\" \\\n",
    "    --decode_dir \"/home/$USER/setu-translate/examples/output/wiki_en/decode\" \\\n",
    "    --batch_size 64 \\\n",
    "    --total_procs 1 \\\n",
    "    --src_lang eng_Latn \\\n",
    "    --tgt_lang hin_Deva "
   ]
  },
  {
   "cell_type": "code",
   "execution_count": 133,
   "metadata": {},
   "outputs": [],
   "source": [
    "ds = Dataset.from_file(\"/home/shanks/setu-translate/examples/output/wiki_en/decode/data-00000-of-00001.arrow\")"
   ]
  },
  {
   "cell_type": "code",
   "execution_count": 134,
   "metadata": {},
   "outputs": [
    {
     "data": {
      "text/plain": [
       "['नॉर्वे का नरसंहार केंद्र',\n",
       " '2020 के नागोर्नो-काराबाख युद्ध में प्राप्त क्षेत्रों में अज़रबैजान का निर्माण',\n",
       " '2020 के नागोर्नो-काराबाख युद्ध के बाद और 2020 के नागोर्नो-काराबाख संघर्ष विराम समझौते के अनुसार, अज़रबैजान गणराज्य ने क्षेत्रों की ओर से अधिकार को फिर से स्थापित किया, जो पहले वस्तुतः अलग हुए आर्टसाख गणराज्य द्वारा नियंत्रित था, जिसने अज़रबैजान को काराबाख के क्षेत्रों में निर्माण परियोजनाएं और पुनर्वास शुरू करने की अनुमति दी, जिनमें से कई को 1990 के दशक में अज़रबैजान द्वारा उन पर नियंत्रण खोने के बाद से व्यावहारिक रूप से समतल कर दिया गया था।',\n",
       " 'संघर्ष के बाद की स्थिति और पुनर्निर्माण।',\n",
       " 'अज़रबैजान ने 2020 के नागोर्नो-काराबाख युद्ध के दौरान और उसके बाद अपने कई क्षेत्रों को फिर से हासिल कर लिया, जो 9 नवंबर 2020 को संघर्ष विराम समझौते के साथ समाप्त हुआ. संघर्ष विराम ने उन स्थानों पर पुनर्वास शुरू करने की अनुमति दी जहां अज़रबैजान ने अधिकार फिर से स्थापित किया, जिनमें से कई को व्यावहारिक रूप से समतल कर दिया गया था क्योंकि 1990 के दशक में अज़रबैजान ने उन पर नियंत्रण खो दिया था।',\n",
       " 'सरकार द्वारा प्रायोजित स्रोत इन योजनाओं को \"महान लाभ\" या \"बड़ा लाभ\" () के रूप में प्रस्तुत करते हैं।',\n",
       " 'विश्व शहरी मंच के 11वें सत्र में, अज़रबैजान गणराज्य के राष्ट्रपति इल्हम अलीयेव ने दावा किया कि भारी खदान प्रदूषण मुख्य चुनौती है, जो आंतरिक रूप से विस्थापित व्यक्तियों के पुनर्निर्माण और वापसी को धीमा कर देता है।',\n",
       " \"'आर्मेनिया और अज़रबैजान के बीच संघर्ष के मानवीय परिणामों' पर गति प्रतिवेदक पॉल गावन ने अपनी रिपोर्ट में कहा किः\",\n",
       " 'अमेरिकी विदेश विभाग के अनुसार अज़रबैजानी सरकार नागोर्नो-काराबाख के आसपास के क्षेत्रों में नए निवेश की तलाश कर रही है जो पहले आर्मेनिया समर्थित अलगाववादियों द्वारा नियंत्रित थे।',\n",
       " 'उन्होंने तीन साल तक विश्व इनडोर 1500 मीटर का रिकॉर्ड बनाया, जिसमें उनका निशान वर्तमान में संबंधित विश्व सर्वकालिक सूची में दूसरा सबसे तेज है।']"
      ]
     },
     "execution_count": 134,
     "metadata": {},
     "output_type": "execute_result"
    }
   ],
   "source": [
    "ds[0:10][\"translated\"]"
   ]
  },
  {
   "cell_type": "markdown",
   "metadata": {},
   "source": [
    "## Now replace the text with translations in the original templated dataset"
   ]
  },
  {
   "cell_type": "code",
   "execution_count": 135,
   "metadata": {},
   "outputs": [
    {
     "name": "stdout",
     "output_type": "stream",
     "text": [
      "Resolving data files: 100%|█████████████████| 64/64 [00:00<00:00, 325376.31it/s]\n",
      "Generating train split: 100 examples [00:00, 5610.96 examples/s]\n",
      "Map: 100%|████████████████████████████████| 4/4 [00:00<00:00, 419.78 examples/s]\n",
      "Saving the dataset (1/1 shards): 100%|████| 4/4 [00:00<00:00, 754.44 examples/s]\n"
     ]
    }
   ],
   "source": [
    "!HF_DATASETS_CACHE=/home/$USER/tmp python /home/shanks/setu-translate/stages/replace.py \\\n",
    "    --paths_data \"/home/$USER/setu-translate/examples/output/wiki_en/templated/*.arrow\" \\\n",
    "    --cache_dir \"/home/$USER/setu-translate/examples/cache\" \\\n",
    "    --batch_size 64 \\\n",
    "    --num_procs 1 \\\n",
    "    --translated_save_path \"/home/$USER/setu-translate/examples/output/wiki_en/translated\""
   ]
  },
  {
   "cell_type": "code",
   "execution_count": 136,
   "metadata": {},
   "outputs": [],
   "source": [
    "ds = Dataset.from_file(\"/home/shanks/setu-translate/examples/output/wiki_en/translated/data-00000-of-00001.arrow\")"
   ]
  },
  {
   "cell_type": "code",
   "execution_count": 137,
   "metadata": {},
   "outputs": [
    {
     "data": {
      "text/plain": [
       "['\\nबोन मैसन एयरड्रोम\\n\\n\\n\\n',\n",
       " '\\nजेसन स्पेंसर\\n\\n\\n\\n',\n",
       " '\\nसैमुएल टेफेरा\\n\\nसैमुएल टेफेरा (born 23 october 1999) is an ethiopian middle distance runner who specialises in the 1500 metres. 18 साल की उम्र में, वह 2018 के विश्व इनडोर चैंपियन बने, और 2022 की विश्व इनडोर चैंपियनशिप में अपने खिताब का बचाव करते हुए इस प्रक्रिया में चैंपियनशिप रिकॉर्ड स्थापित किया। टेफेरा 1500 मीटर के लिए अफ्रीकी इनडोर रिकॉर्ड धारक है।\\nउन्होंने तीन साल तक विश्व इनडोर 1500 मीटर का रिकॉर्ड बनाया, जिसमें उनका निशान वर्तमान में संबंधित विश्व सर्वकालिक सूची में दूसरा सबसे तेज है।\\nकैरियर।\\nसैमुएल टेफेरा made her first major appearance in 2017, when the then-17-year-old represented ethiopia in the 1500 metres at the world championships in london, not advancing from the heats.\\nमार्च 2018 में, उन्होंने बर्मिंघम में आयोजित विश्व इनडोर चैंपियनशिप में स्वर्ण पदक जीता। उन्होंने मार्सिन लेवांडोव्स्की (3:58.39) और अब्दालाती इगुइडर (3:58.43) को हराने के लिए 3:58.19 हासिल किया।\\nफरवरी 2019 में, अभी भी 19, टेफेरा ने तीन मिनट 31.04 सेकंड के समय के साथ बर्मिंगहम इनडोर ग्रैंड प्रिक्स में अपनी विशेष दूरी में एक विश्व इनडोर रिकॉर्ड बनाया। उन्होंने मोरक्को के हिचम अल गुरोज के 22 साल पुराने निशान को 0.14 सेकंड से तोड़ दिया। 2022 में जैकब इंगेब्रिग्टसन ने टेफेरा के रिकॉर्ड को बेहतर बनाया था।\\nचोट लगने के बाद उन्होंने दोहा में 2019 विश्व चैंपियनशिप में अपना सेमीफाइनल रन पूरा नहीं किया। टिमोथी चेरुयोट ने खिताब जीता।\\nटेफेरा ने 2020 टोक्यो ओलंपिक में एथियोपिया का प्रतिनिधित्व किया, जहां उन्हें फिर से चोट की समस्या हुई और पुरुषों की 1500 मीटर की हीट में उन्हें बाहर कर दिया गया। इंगब्रिग्टसन प्रतियोगिता के विजेता बने।\\nबेलग्रेड में 2022 विश्व इनडोर चैंपियनशिप में, टेफेरा ने 3 मीटर 32.77s के समय में अपने खिताब का बचाव किया, 3:33.02 दौड़ने वाले इंगब्रिग्टन को हराया, और इस प्रक्रिया में चैंपियनशिप रिकॉर्ड स्थापित किया। आबेल किप्सांग 3:33.36 में तीसरे स्थान पर रहे।\\n\\n',\n",
       " '\\nचूत्सु क्षेत्र\\n\\n यह मध्य निगाता प्रान्त के एक क्षेत्र का नाम है। \"चूत्सु\" शब्द केंद्रीय इचिगो प्रांत का संक्षिप्त नाम है।\\nयह एक महत्वपूर्ण चावल उगाने वाला क्षेत्र है। कोशिकारी जो इस क्षेत्र में उगाया जाता था, जापान में बहुत मूल्यवान है।\\nहोकुड़िकु क्षेत्र के अधिकांश हिस्सों के साथ, इस क्षेत्र में सर्दियों के दौरान भारी बर्फबारी होती है, और कई स्की रिसॉर्ट्स पहाड़ी क्षेत्रों में फैले होते हैं। \\nइस क्षेत्र के मुख्य शहरों में नागोका और उओनुमा शामिल हैं।\\n23 अक्टूबर 2004 को ओजिया पर केंद्रित चूत्सु भूकंप में इस क्षेत्र में 67 लोग मारे गए थे। 6. 8 तीव्रता के भूकंप के कारण पहली बार एक शिंकानसेन पटरी से उतर गया।\\n\\n']"
      ]
     },
     "execution_count": 137,
     "metadata": {},
     "output_type": "execute_result"
    }
   ],
   "source": [
    "ds[0:10][\"translated\"]"
   ]
  },
  {
   "cell_type": "code",
   "execution_count": null,
   "metadata": {},
   "outputs": [],
   "source": []
  }
 ],
 "metadata": {
  "kernelspec": {
   "display_name": "translate-env",
   "language": "python",
   "name": "python3"
  },
  "language_info": {
   "codemirror_mode": {
    "name": "ipython",
    "version": 3
   },
   "file_extension": ".py",
   "mimetype": "text/x-python",
   "name": "python",
   "nbconvert_exporter": "python",
   "pygments_lexer": "ipython3",
   "version": "3.10.13"
  }
 },
 "nbformat": 4,
 "nbformat_minor": 2
}
